{
 "cells": [
  {
   "cell_type": "markdown",
   "metadata": {},
   "source": [
    "# Algorithms, Binary Search & Linked Lists"
   ]
  },
  {
   "cell_type": "markdown",
   "metadata": {},
   "source": [
    "## Tasks Today:\n",
    " \n",
    "1) <b>In-Place Algorithms</b> <br>\n",
    " &nbsp;&nbsp;&nbsp;&nbsp; a) Syntax <br>\n",
    " &nbsp;&nbsp;&nbsp;&nbsp; a) Out of Place Algorithm <br>\n",
    " &nbsp;&nbsp;&nbsp;&nbsp; b) In-Class Exercise #1 <br>\n",
    "2) <b>Two Pointers</b> <br>\n",
    "3) <b>Linked Lists</b> <br>\n",
    "4) <b>Merge Sort</b> <br>\n",
    " &nbsp;&nbsp;&nbsp;&nbsp; a) Video on Algorithms <br>\n",
    " &nbsp;&nbsp;&nbsp;&nbsp; b) How it Works <br>\n",
    "5) <b>Exercises</b> <br>\n",
    " &nbsp;&nbsp;&nbsp;&nbsp; a) Exercise #1 - Reverse a List in Place Using an In-Place Algorithm <br>\n",
    " &nbsp;&nbsp;&nbsp;&nbsp; b) Exercise #2 - Find Distinct Words <br>\n",
    " &nbsp;&nbsp;&nbsp;&nbsp; c) Exercise #3 - Write a program to implement a Linear Search Algorithm. <br>"
   ]
  },
  {
   "cell_type": "markdown",
   "metadata": {},
   "source": [
    "## In-Place Algorithms"
   ]
  },
  {
   "cell_type": "markdown",
   "metadata": {},
   "source": [
    "#### Syntax"
   ]
  },
  {
   "cell_type": "code",
   "execution_count": 2,
   "metadata": {},
   "outputs": [
    {
     "name": "stdout",
     "output_type": "stream",
     "text": [
      "2252246270208\n",
      "[2, 3, 1]\n"
     ]
    }
   ],
   "source": [
    "#in place is an algorithm that modifies the original variable in its place in memory. \n",
    "#these algorithms typically don't return anything \n",
    "\n",
    "def swap(alist, x,y,z): \n",
    "    alist[x], alist[y], alist[z] = alist[y], alist[z], alist[x]\n",
    "\n",
    "my_list = [1,2,3]\n",
    "print(id(my_list))\n",
    "swap(my_list, 0, 1, 2)\n",
    "\n",
    "print(my_list)"
   ]
  },
  {
   "cell_type": "markdown",
   "metadata": {},
   "source": [
    "#### Out of Place Algorithm"
   ]
  },
  {
   "cell_type": "code",
   "execution_count": 3,
   "metadata": {},
   "outputs": [
    {
     "name": "stdout",
     "output_type": "stream",
     "text": [
      "2252246191040\n",
      "[3, 2, 1]\n",
      "2252246284672\n"
     ]
    }
   ],
   "source": [
    "#out of place algorithims do not modify the original, they use the values, but restore the modifications in a new place in memory.\n",
    "\n",
    "def out_swap(alist): \n",
    "    output = []\n",
    "    for ele in alist[::-1]:\n",
    "        output.append(ele)\n",
    "    return output \n",
    "\n",
    "my_list = [1,2,3]\n",
    "print(id(my_list))\n",
    "\n",
    "my_list = out_swap(my_list)\n",
    "print(my_list)\n",
    "print(id(my_list))"
   ]
  },
  {
   "cell_type": "markdown",
   "metadata": {},
   "source": [
    "#### In-Class Exercise #1 <br>\n",
    "<p>Write a function that takes in four arguments (list, index1, index2, index3), and swaps those three positions in the list passed in.</p>"
   ]
  },
  {
   "cell_type": "code",
   "execution_count": 4,
   "metadata": {},
   "outputs": [
    {
     "name": "stdout",
     "output_type": "stream",
     "text": [
      "[10, 3, 8, 4, 4, 2, 6]\n"
     ]
    }
   ],
   "source": [
    "l_1 = [10, 4, 3, 8, 4, 2, 6]\n",
    "\n",
    "\n",
    "def swap(alist, x,y,z): \n",
    "    alist[x], alist[y], alist[z] = alist[y], alist[z], alist[x]\n",
    "\n",
    "swap(l_1, 1,2,3)\n",
    "print(l_1)"
   ]
  },
  {
   "cell_type": "markdown",
   "metadata": {},
   "source": [
    "## Two Pointers"
   ]
  },
  {
   "cell_type": "markdown",
   "metadata": {},
   "source": [
    "#### Syntax"
   ]
  },
  {
   "cell_type": "code",
   "execution_count": 5,
   "metadata": {},
   "outputs": [
    {
     "name": "stdout",
     "output_type": "stream",
     "text": [
      "[6, 5, 4, 3, 2, 1]\n"
     ]
    }
   ],
   "source": [
    "#an algorithm that keeps track of two indecese (two pointers)\n",
    "#\n",
    "\n",
    "this_list = [1,2,3,4,5,6]\n",
    "\n",
    "def two_p_swap(alist):\n",
    "    left = 0\n",
    "    right = len(alist) - 1\n",
    "    while left <= right: \n",
    "        alist[left], alist[right] = alist[right], alist[left]\n",
    "        left += 1\n",
    "        right -= 1\n",
    "    \n",
    "two_p_swap(this_list)\n",
    "print(this_list)\n"
   ]
  },
  {
   "cell_type": "markdown",
   "metadata": {},
   "source": [
    "#### Video of Algorithms <br>\n",
    "<p>Watch the video about algorithms.</p>\n",
    "\n",
    "https://www.youtube.com/watch?v=Q9HjeFD62Uk\n",
    "\n",
    "https://www.youtube.com/watch?v=kPRA0W1kECg\n",
    "\n",
    "https://www.youtube.com/watch?v=ZZuD6iUe3Pc"
   ]
  },
  {
   "cell_type": "markdown",
   "metadata": {},
   "source": [
    "# Sorting Algorithms"
   ]
  },
  {
   "cell_type": "markdown",
   "metadata": {},
   "source": [
    "#### Bubble Sort\n",
    "\n",
    "Worst Case: O(n^2) Time - O(1) Space"
   ]
  },
  {
   "cell_type": "code",
   "execution_count": 8,
   "metadata": {},
   "outputs": [
    {
     "ename": "TypeError",
     "evalue": "'function' object is not subscriptable",
     "output_type": "error",
     "traceback": [
      "\u001b[1;31m---------------------------------------------------------------------------\u001b[0m",
      "\u001b[1;31mTypeError\u001b[0m                                 Traceback (most recent call last)",
      "\u001b[1;32mc:\\Users\\Alicia\\Documents\\Coding Temple\\week3\\day3\\Algorithms_INCLASS.ipynb Cell 16\u001b[0m line \u001b[0;36m1\n\u001b[0;32m     <a href='vscode-notebook-cell:/c%3A/Users/Alicia/Documents/Coding%20Temple/week3/day3/Algorithms_INCLASS.ipynb#X21sZmlsZQ%3D%3D?line=16'>17</a>\u001b[0m                 swap[alist, index, index \u001b[39m+\u001b[39m \u001b[39m1\u001b[39m]\n\u001b[0;32m     <a href='vscode-notebook-cell:/c%3A/Users/Alicia/Documents/Coding%20Temple/week3/day3/Algorithms_INCLASS.ipynb#X21sZmlsZQ%3D%3D?line=17'>18</a>\u001b[0m                 \u001b[39msorted\u001b[39m \u001b[39m=\u001b[39m \u001b[39mFalse\u001b[39;00m \n\u001b[1;32m---> <a href='vscode-notebook-cell:/c%3A/Users/Alicia/Documents/Coding%20Temple/week3/day3/Algorithms_INCLASS.ipynb#X21sZmlsZQ%3D%3D?line=18'>19</a>\u001b[0m bubble(alist)\n\u001b[0;32m     <a href='vscode-notebook-cell:/c%3A/Users/Alicia/Documents/Coding%20Temple/week3/day3/Algorithms_INCLASS.ipynb#X21sZmlsZQ%3D%3D?line=19'>20</a>\u001b[0m alist\n",
      "\u001b[1;32mc:\\Users\\Alicia\\Documents\\Coding Temple\\week3\\day3\\Algorithms_INCLASS.ipynb Cell 16\u001b[0m line \u001b[0;36m1\n\u001b[0;32m     <a href='vscode-notebook-cell:/c%3A/Users/Alicia/Documents/Coding%20Temple/week3/day3/Algorithms_INCLASS.ipynb#X21sZmlsZQ%3D%3D?line=13'>14</a>\u001b[0m \u001b[39mfor\u001b[39;00m index \u001b[39min\u001b[39;00m \u001b[39mrange\u001b[39m(\u001b[39mlen\u001b[39m(alist) \u001b[39m-\u001b[39m\u001b[39m1\u001b[39m):\n\u001b[0;32m     <a href='vscode-notebook-cell:/c%3A/Users/Alicia/Documents/Coding%20Temple/week3/day3/Algorithms_INCLASS.ipynb#X21sZmlsZQ%3D%3D?line=15'>16</a>\u001b[0m     \u001b[39mif\u001b[39;00m alist[index] \u001b[39m>\u001b[39m alist[index \u001b[39m+\u001b[39m \u001b[39m1\u001b[39m]:\n\u001b[1;32m---> <a href='vscode-notebook-cell:/c%3A/Users/Alicia/Documents/Coding%20Temple/week3/day3/Algorithms_INCLASS.ipynb#X21sZmlsZQ%3D%3D?line=16'>17</a>\u001b[0m         swap[alist, index, index \u001b[39m+\u001b[39;49m \u001b[39m1\u001b[39;49m]\n\u001b[0;32m     <a href='vscode-notebook-cell:/c%3A/Users/Alicia/Documents/Coding%20Temple/week3/day3/Algorithms_INCLASS.ipynb#X21sZmlsZQ%3D%3D?line=17'>18</a>\u001b[0m         \u001b[39msorted\u001b[39m \u001b[39m=\u001b[39m \u001b[39mFalse\u001b[39;00m\n",
      "\u001b[1;31mTypeError\u001b[0m: 'function' object is not subscriptable"
     ]
    }
   ],
   "source": [
    "#palces the next largest elevation in position with every single pass. \n",
    "alist = [8,3,5,2,9,10,1,4]\n",
    "\n",
    "def swap(alist, x, y):\n",
    "    alist[x], alist[y] = alist[y], alist[x]\n",
    "\n",
    "def bubble(alist): \n",
    "    sorted = False \n",
    "\n",
    "    while not sorted:\n",
    "\n",
    "        sorted = True\n",
    "        \n",
    "        for index in range(len(alist) -1):\n",
    "\n",
    "            if alist[index] > alist[index + 1]:\n",
    "                swap[alist, index, index + 1]\n",
    "                sorted = False \n",
    "bubble(alist)\n",
    "alist"
   ]
  },
  {
   "cell_type": "markdown",
   "metadata": {},
   "source": [
    "##### Insertion Sort\n",
    "\n",
    "Worst Case: O(n^2) time - O(1)space"
   ]
  },
  {
   "cell_type": "code",
   "execution_count": 13,
   "metadata": {},
   "outputs": [
    {
     "name": "stdout",
     "output_type": "stream",
     "text": [
      "None\n",
      "[1, 2, 3, 4, 5, 8, 9, 10]\n"
     ]
    }
   ],
   "source": [
    "#starting from the beginning inserting the next value into the 'sorted' values\n",
    "\n",
    "alist = [8,3,5,2,9,10,1,4]\n",
    "\n",
    "def swap(alist, x, y):\n",
    "    alist[x], alist[y] = alist[y], alist[x]\n",
    "\n",
    "def insertion(alist): \n",
    "    for i in range(1, len(alist)):\n",
    "        while i > 0 and alist[i] <alist[i-1]:\n",
    "            swap(alist, i, i-1)\n",
    "            i -= 1\n",
    "\n",
    "print(insertion(alist))\n",
    "print(alist)\n",
    "\n",
    "# BREAK for NEW EXAMPLE: \n",
    "\n"
   ]
  },
  {
   "cell_type": "markdown",
   "metadata": {},
   "source": [
    "## Merge Sort"
   ]
  },
  {
   "cell_type": "markdown",
   "metadata": {},
   "source": [
    "#### How it Works"
   ]
  },
  {
   "cell_type": "code",
   "execution_count": 15,
   "metadata": {},
   "outputs": [
    {
     "data": {
      "text/plain": [
       "<function print(*args, sep=' ', end='\\n', file=None, flush=False)>"
      ]
     },
     "execution_count": 15,
     "metadata": {},
     "output_type": "execute_result"
    }
   ],
   "source": [
    " #break list in half, then merge lists together until 1 is empty, once 1 is empty you fill in from the other list.\n",
    "\n",
    "alist = [8,3,5,2,9,10,1,4]\n",
    "\n",
    "def mergeSort(alist): \n",
    "    #split all the way down the way to the left side(followed by the right)\n",
    "    if len(alist) > 1: \n",
    "        middle = len(alist) // 2\n",
    "        left_half = alist[:middle]\n",
    "        right_half = alist[middle:]\n",
    "\n",
    "        mergeSort(left_half)\n",
    "        mergeSort(right_half)\n",
    "\n",
    "        i = 0 #tracking left pointer\n",
    "        j = 0 #tracking right pointer\n",
    "        k = 0 #tracking the main list pointer \n",
    "\n",
    "        #comparing  and sorting the elements in left and right until 1 list if empty \n",
    "        while i < len (left_half) and j < (right_half): \n",
    "            if left_half[i] < right_half[j]:\n",
    "                alist[k] = left_half[i]\n",
    "                i += 1\n",
    "            else: \n",
    "                alist[k] = right_half[j]\n",
    "                j += 1\n",
    "            k =+ 1 #shifting k over \n",
    "\n",
    "#once a list is empty, fill in from the other list\n",
    "\n",
    "        while i > len(left_half):\n",
    "            alist[k] = right_half[i]\n",
    "            i += 1\n",
    "            k += 1\n",
    "\n",
    "        while j < len(right_half):\n",
    "            alist[k] = right_half[j]\n",
    "\n",
    "print alist\n",
    "\n"
   ]
  },
  {
   "cell_type": "markdown",
   "metadata": {},
   "source": [
    "# Binary Search\n",
    "\n",
    "The Binary Search algorithm works by finding the number in the middle of a given array and comparing it to the target. Given that the array is sorted\n",
    "\n",
    "* The worst case run time for this algorithm is `O(log(n))`"
   ]
  },
  {
   "cell_type": "code",
   "execution_count": 21,
   "metadata": {},
   "outputs": [
    {
     "data": {
      "text/plain": [
       "'WINNER WINNER CHICKEN DINNER found 8 at index 7'"
      ]
     },
     "execution_count": 21,
     "metadata": {},
     "output_type": "execute_result"
    }
   ],
   "source": [
    "def binarSearch(alist, target): \n",
    "    left = 0\n",
    "    right = len(alist) - 1\n",
    "    while left <= right: \n",
    "        middle = (left + right) // 2\n",
    "        potential_guess = alist[middle]\n",
    "\n",
    "        if target == potential_guess: \n",
    "            return f'WINNER WINNER CHICKEN DINNER found {target} at index {middle}'\n",
    "        if target > potential_guess: \n",
    "            left = middle + 1\n",
    "        elif target < potential_guess: \n",
    "            right = middle - 1\n",
    "    return \"Target not found.\"\n",
    "\n",
    "binarSearch([1,2,3,4,5,6,7,8,22,45,64,78,90,1000], 8)\n",
    "\n"
   ]
  },
  {
   "cell_type": "markdown",
   "metadata": {},
   "source": [
    "# Exercises"
   ]
  },
  {
   "cell_type": "markdown",
   "metadata": {},
   "source": [
    "### Exercise #1 <br>\n",
    "<p>Reverse the list below in-place using an in-place algorithm.<br>For extra credit: Reverse the strings at the same time.</p>"
   ]
  },
  {
   "cell_type": "code",
   "execution_count": 3,
   "metadata": {},
   "outputs": [
    {
     "name": "stdout",
     "output_type": "stream",
     "text": [
      "['this', '.', 'sentence', 'a', 'is']\n"
     ]
    }
   ],
   "source": [
    "#NO HARD CODING - USING SYNTAX \n",
    "#make it flexible \n",
    "\n",
    "#an algorithm that keeps track of two indecese (two pointers)\n",
    "    \n",
    "    \n",
    "def reverseList(w_list):\n",
    "    left = 1 \n",
    "    right = len(w_list) - 1\n",
    "    while left <= right: \n",
    "        w_list[left], w_list[right] = w_list[right], w_list[left]\n",
    "        left += 1\n",
    "        right -= 1\n",
    "\n",
    "words = ['this' , 'is', 'a', 'sentence', '.']    \n",
    "reverseList(words)\n",
    "print(words)\n",
    "    \n"
   ]
  },
  {
   "cell_type": "markdown",
   "metadata": {},
   "source": [
    "### Exercise #2 <br>\n",
    "<p>Create a function that counts how many distinct words are in the string below, then outputs a dictionary with the words as the key and the value as the amount of times that word appears in the string.<br>Should output:<br>{'a': 5,<br>\n",
    " 'abstract': 1,<br>\n",
    " 'an': 3,<br>\n",
    " 'array': 2, ... etc...</p>"
   ]
  },
  {
   "cell_type": "code",
   "execution_count": null,
   "metadata": {},
   "outputs": [],
   "source": [
    "#casing matters \n",
    "#extra credit: ignore the punctuation, hint: use .strip\n",
    "# .split()\n",
    "\n",
    "a_text = 'In computing, a hash table hash map is a data structure which implements an associative array abstract data type, a structure that can map keys to values. A hash table uses a hash function to compute an index into an array of buckets or slots from which the desired value can be found'\n",
    "\n",
    "\n"
   ]
  },
  {
   "cell_type": "markdown",
   "metadata": {},
   "source": [
    "## Exercise #3\n",
    "\n",
    "Write a program to implement a Linear Search Algorithm. \n",
    "#### Hint: Linear Searching will require searching a list for a given number. "
   ]
  },
  {
   "cell_type": "code",
   "execution_count": 5,
   "metadata": {},
   "outputs": [
    {
     "data": {
      "text/plain": [
       "5"
      ]
     },
     "execution_count": 5,
     "metadata": {},
     "output_type": "execute_result"
    }
   ],
   "source": [
    "# is it the first element, the second element, the third element...etc.\n",
    "# simulate receiving a list and searching the given list for a number \n",
    "\n",
    "\n",
    "def listSearch(num_list, number):\n",
    "    for num in num_list: \n",
    "        if num == number: \n",
    "            return number \n",
    "    else: \n",
    "        return \"Not Found in List\"\n",
    "    \n",
    "a_list = [1, 2, 3, 4, 5, 6, 7, 8, 9, 10]    \n",
    "listSearch(a_list, 5)"
   ]
  }
 ],
 "metadata": {
  "kernelspec": {
   "display_name": "Python 3",
   "language": "python",
   "name": "python3"
  },
  "language_info": {
   "codemirror_mode": {
    "name": "ipython",
    "version": 3
   },
   "file_extension": ".py",
   "mimetype": "text/x-python",
   "name": "python",
   "nbconvert_exporter": "python",
   "pygments_lexer": "ipython3",
   "version": "3.11.5"
  }
 },
 "nbformat": 4,
 "nbformat_minor": 2
}
